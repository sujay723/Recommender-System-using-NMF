{
  "nbformat": 4,
  "nbformat_minor": 0,
  "metadata": {
    "colab": {
      "provenance": []
    },
    "kernelspec": {
      "name": "python3",
      "display_name": "Python 3"
    },
    "language_info": {
      "name": "python"
    }
  },
  "cells": [
    {
      "cell_type": "code",
      "execution_count": 1,
      "metadata": {
        "id": "8zsAjTWZxl2d"
      },
      "outputs": [],
      "source": [
        "import pandas as pd\n",
        "import numpy as np\n",
        "import matplotlib.pyplot as plt\n",
        "import seaborn as sns\n",
        "from sklearn.decomposition import NMF\n",
        "from sklearn.metrics.pairwise import cosine_similarity"
      ]
    },
    {
      "cell_type": "code",
      "source": [
        "# Synthetic dataset for illustration purposes\n",
        "data = {\n",
        "    \"User1\": [3, 1, 4, 0, 0],\n",
        "    \"User1\": [0, 5, 0, 2, 0],\n",
        "    \"User1\": [0, 0, 0, 5, 1],\n",
        "    \"User1\": [5, 0, 5, 0, 3],\n",
        "}\n",
        "\n",
        "\n",
        "df = pd.DataFrame(data, index=[\"Item1\", \"Item2\", \"Item3\", \"Item4\", \"Item5\"])\n",
        "\n",
        "# Apply NMF for recommendation\n",
        "nmf_recommender = NMF(n_components=5, random_state=42)\n",
        "W = nmf_recommender.fit_transform(df)\n",
        "H = nmf_recommender.components_\n",
        "\n",
        "# Recommend values for a specific user\n",
        "target_user = \"User1\"\n",
        "user_index = df.columns.get_loc(target_user)\n",
        "recommendations = np.dot(W, H[:, user_index])\n",
        "\n",
        "# Display the recommendations\n",
        "df_recommendations = pd.DataFrame(recommendations, index=df.index, columns=[\"Recommendation\"])\n",
        "df_recommendations.sort_values(by=\"Recommendation\", ascending=False, inplace=True)\n",
        "print(f\"recommendation for (target_user):\")\n",
        "print(df_recommendations)"
      ],
      "metadata": {
        "colab": {
          "base_uri": "https://localhost:8080/"
        },
        "id": "n31ToHN7ylNn",
        "outputId": "0e06d848-83ce-49be-a644-7ab384cae820"
      },
      "execution_count": 2,
      "outputs": [
        {
          "output_type": "stream",
          "name": "stdout",
          "text": [
            "recommendation for (target_user):\n",
            "       Recommendation\n",
            "Item1             5.0\n",
            "Item3             5.0\n",
            "Item5             3.0\n",
            "Item2             0.0\n",
            "Item4             0.0\n"
          ]
        }
      ]
    },
    {
      "cell_type": "code",
      "source": [
        "from sklearn.metrics.pairwise import cosine_similarity\n",
        "import pandas as pd\n",
        "\n",
        "def find_similar_items(item, W_matrix, item_index_map):\n",
        "    # Find index of the target item\n",
        "    item_idx = item_index_map.get_loc(item)\n",
        "\n",
        "    # Compute cosine similarity\n",
        "    similarities = cosine_similarity(W_matrix[item_idx].reshape(1, -1), W_matrix).flatten()\n",
        "\n",
        "    # Build DataFrame of similarities\n",
        "    similar_items = pd.DataFrame({\n",
        "        \"Item\": item_index_map,\n",
        "        \"Similarity\": similarities\n",
        "    })\n",
        "\n",
        "    # Remove the item itself\n",
        "    similar_items = similar_items[similar_items[\"Item\"] != item]\n",
        "\n",
        "    # Sort and reset index\n",
        "    similar_items = similar_items.sort_values(by=\"Similarity\", ascending=False).reset_index(drop=True)\n",
        "\n",
        "    return similar_items\n",
        "\n",
        "# Example usage\n",
        "target_item = \"Item1\"\n",
        "similar_items_df = find_similar_items(target_item, W, df.index)\n",
        "\n",
        "print(f\"Similar items to '{target_item}':\")\n",
        "print(similar_items_df.head(10))\n"
      ],
      "metadata": {
        "colab": {
          "base_uri": "https://localhost:8080/"
        },
        "id": "Gy2fercV2Jn7",
        "outputId": "13edfb20-571f-45b7-c720-11a7f67a88af"
      },
      "execution_count": 6,
      "outputs": [
        {
          "output_type": "stream",
          "name": "stdout",
          "text": [
            "Similar items to 'Item1':\n",
            "    Item  Similarity\n",
            "0  Item5    0.998716\n",
            "1  Item3    0.996984\n",
            "2  Item2    0.000000\n",
            "3  Item4    0.000000\n"
          ]
        }
      ]
    },
    {
      "cell_type": "code",
      "source": [
        "# Function to recommend specific values based on user preferences\n",
        "def recommend_specific_values(user, W_matrix, H_matrix, user_index_map, item_index_map):\n",
        "  user_idx = user_index_map.get_loc(user)\n",
        "  item_idx = np.argmax(np.dot(W_matrix[:,user_idx], H_matrix))\n",
        "  recommended_item = item_index_map[item_idx]\n",
        "  return recommended_item\n",
        "\n",
        "# Recommend a specific value for 'User1'\n",
        "target_user_specific = 'User1'\n",
        "recommended_item_specific = recommend_specific_values(target_user_specific, W, H, df.columns, df.index)\n",
        "\n",
        "print(f\"Recommended specfic value for {target_user_specific}: {recommended_item_specific}\")"
      ],
      "metadata": {
        "colab": {
          "base_uri": "https://localhost:8080/"
        },
        "id": "3JBz8WaL5I-K",
        "outputId": "6bd72eea-2fe8-4b0e-a7f5-b534bb74d138"
      },
      "execution_count": 7,
      "outputs": [
        {
          "output_type": "stream",
          "name": "stdout",
          "text": [
            "Recommended specfic value for User1: Item1\n"
          ]
        }
      ]
    },
    {
      "cell_type": "code",
      "source": [],
      "metadata": {
        "id": "y8IE4GCmEBiL"
      },
      "execution_count": null,
      "outputs": []
    }
  ]
}